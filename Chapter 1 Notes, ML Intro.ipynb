{
 "cells": [
  {
   "cell_type": "markdown",
   "metadata": {},
   "source": [
    "# Chapter 1 - Machine Learning Landscape"
   ]
  },
  {
   "cell_type": "markdown",
   "metadata": {},
   "source": [
    "Definitions <br>\n",
    "- **Machine Learning** : The science of programming computers so they can learning from data\n",
    "- **Data Mining** : Applying machine learning techniques on large amounts of data to try and find not easily observable patterns"
   ]
  },
  {
   "cell_type": "markdown",
   "metadata": {},
   "source": [
    "Machine learning can be classified into 4 different types: supervised learning, unsupervised learning, semisupervised learning and reinforcement learning. "
   ]
  },
  {
   "cell_type": "markdown",
   "metadata": {},
   "source": [
    "## Supervised Learning\n",
    "\n",
    "Supervised learning is the is giving the training data for your algorithm the the solutions where it can learn from.<br>\n",
    "SL can be broken up into 2 parts, classification and regression.<br>\n",
    "\n",
    "- Classication tries to find the correct way to classify something or put it in a correct bin\n",
    "- Regression tries to find the correct quatitative value \n",
    "\n",
    "The main supervised learning algorithms are:\n",
    "\n",
    "- k nearest neighbors\n",
    "- Linear Regression\n",
    "- Logistic Regression\n",
    "- Support Vector Machines (SVMs)\n",
    "- Decision Trees\n",
    "- Random Forest\n",
    "- Neural Networks\n"
   ]
  },
  {
   "cell_type": "markdown",
   "metadata": {},
   "source": [
    "## Unsupervised Learning\n",
    "\n",
    "In unsupervised learning the training data you feed the algorithm has no solutions to learn from. They have to guess how to find the answers<br>\n",
    "Unsupervised Learning can be divided into 3 main areas: clustering, visualization and dimensionality reduction, and associate rule learning. \n",
    "\n",
    "**Clustering** can be broken down into:\n",
    "- k Means\n",
    "- Hierarchial Cluster Analysis (HCA)\n",
    "- Expectation Maximization\n",
    "\n",
    "An example of clustering could be to try and group the visitors on a certain website.\n",
    "<br>\n",
    "<br>\n",
    "**Visualiatization and Dimensionality Reduction**:\n",
    "- Principal Component Analysis (PCA)\n",
    "- Kernel PCA\n",
    "- Local linear embedding (LLE)\n",
    "- t distributed Stochastic Neighbor Embedding (t SNE)\n",
    "\n",
    "Visualization algorithms take a lot of complex and unlabeled(no solution) data and create plots to help you understand the seperation of the data better. <br>\n",
    "Dimension reduction will try to simplify the data without losing much information. One way is by mergeing highly correlated features(attribute plus value) into one.<br>\n",
    "Another important task is ananomly detection which tries to find and remove ananomlies in the data before proceeding. <br>\n",
    "<br>\n",
    "<br>\n",
    "**Associate Rule Learning**\n",
    "- Apriori\n",
    "- Eclat\n",
    "\n",
    "This deals with digging into your data and trying to find how relationships between your attributes(data type).\n"
   ]
  },
  {
   "cell_type": "markdown",
   "metadata": {},
   "source": [
    "## Semisupervised Learning\n",
    "\n",
    "Semisupervised Learning is a combination of supervised and unsupervised. Some of the data has labels(solutions) and some do not. Usually there is more unlabeled than labeled. "
   ]
  },
  {
   "cell_type": "markdown",
   "metadata": {},
   "source": [
    "## Reinforcement Learning\n",
    "\n",
    "RL is very different from the others. RL's agent(learning system) must learn by itself what is the best policy(strategy) based on gathering the most reward or least penalty. A policy defines what it should do given a certain situation. "
   ]
  },
  {
   "cell_type": "markdown",
   "metadata": {},
   "source": [
    "Another way to determine what kind of machine learning is by how the algorithm learns this can be either by batch learning or online learning. "
   ]
  },
  {
   "cell_type": "markdown",
   "metadata": {},
   "source": [
    "## Batch Learning\n",
    "\n",
    "Batch learning means that the algorithm cannot learn incrementally and has to be done using all the data. This is more time consuming and therefore the system is trained offline first and then uploaded into production. "
   ]
  },
  {
   "cell_type": "markdown",
   "metadata": {},
   "source": [
    "## Online Learning\n",
    "\n",
    "Online learning trains its system by taking each new input sequentailly and having the system learn the new data on the fly. This is especailly useful for conituous data like stock prices. It is also much faster and cheaper than batch training. Online data also discards the data once it has learned it. <br>\n",
    "Therefore an important parameter is **learning rate**. \n",
    "- Learning Rate determines how quickly the system will learn the new data and also how quickly it will forget the data. <br>\n",
    "\n",
    "Online learning is also more sensitive to bad data so the system should be constantly monitored"
   ]
  },
  {
   "cell_type": "markdown",
   "metadata": {},
   "source": [
    "We can also categorize our system by being either Instance or Model Based on how they *generalize* "
   ]
  },
  {
   "cell_type": "markdown",
   "metadata": {},
   "source": [
    "## Instance Based\n",
    "\n",
    "An instance based approach takes examples and learns them by heart, then generalizes to new cases by using similarity measure. \n"
   ]
  },
  {
   "cell_type": "markdown",
   "metadata": {},
   "source": [
    "## Model Based \n",
    "\n",
    "Model based takes a set of examples and builds a mdoel which it will then use to make predictions. When building your model you need to define a utlility or cost function to assess how good or bad your model is. That way you can pick the best model. \n"
   ]
  },
  {
   "cell_type": "markdown",
   "metadata": {},
   "source": [
    "## Hazards of Machine Learning\n",
    "\n",
    "The two things that can wrong right away when trying to select a learning algorithm is: bad data and bad algorithm.<br>\n",
    "\n",
    "For bad data we can have not enough data, misrepresented data, or even corrupted data. <br>\n",
    "For bad algorithm we can wind up overfitting the data this means the alogrithm works very well on the training data but not new data. We can also have underfitting which is making our algorithm too simple. \n",
    "\n",
    "."
   ]
  }
 ],
 "metadata": {
  "kernelspec": {
   "display_name": "Python 3",
   "language": "python",
   "name": "python3"
  },
  "language_info": {
   "codemirror_mode": {
    "name": "ipython",
    "version": 3
   },
   "file_extension": ".py",
   "mimetype": "text/x-python",
   "name": "python",
   "nbconvert_exporter": "python",
   "pygments_lexer": "ipython3",
   "version": "3.7.1"
  }
 },
 "nbformat": 4,
 "nbformat_minor": 2
}
